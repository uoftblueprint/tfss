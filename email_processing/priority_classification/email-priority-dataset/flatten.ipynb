{
 "cells": [
  {
   "cell_type": "code",
   "execution_count": 24,
   "id": "initial_id",
   "metadata": {
    "ExecuteTime": {
     "end_time": "2023-11-04T22:08:33.785367284Z",
     "start_time": "2023-11-04T22:08:33.783292537Z"
    },
    "collapsed": true
   },
   "outputs": [],
   "source": [
    "import os\n",
    "import shutil\n",
    "import random\n",
    "import email\n",
    "from email.parser import Parser\n",
    "from tqdm import tqdm\n",
    "\n",
    "\n",
    "def flatten_directory(source_dir, dest_dir):\n",
    "    \"\"\"\n",
    "    Flatten the structure of source_dir, placing copies of all files into dest_dir with \n",
    "    their names changed to reflect their original path (without file extensions). \n",
    "    Skips any files that are larger than 2KB. Shows progress using tqdm.\n",
    "    \"\"\"\n",
    "    if not os.path.exists(dest_dir):\n",
    "        os.makedirs(dest_dir)\n",
    "\n",
    "    # Get all files to process and their total number for tqdm\n",
    "    all_files = [(root, file) for root, _, files in os.walk(source_dir) for file in files]\n",
    "    total_files = len(all_files)\n",
    "\n",
    "    with tqdm(total=total_files, desc=\"Processing Files\") as pbar:\n",
    "        for root, file in all_files:\n",
    "            file_path = os.path.join(root, file)\n",
    "\n",
    "            # Check if file size is greater than 2KB\n",
    "            if os.path.getsize(file_path) > 2048:  # 2KB = 2048 bytes\n",
    "                pbar.update(1)\n",
    "                continue  # Skip this file\n",
    "\n",
    "            # Construct the new file path in the destination directory\n",
    "            relative_path = os.path.relpath(root, source_dir)\n",
    "            # Remove file extension and replace os.sep with \"_\"\n",
    "            file_name_without_extension = os.path.splitext(file)[0]\n",
    "            new_file_name = os.path.join(relative_path, file_name_without_extension).replace(os.sep, \"_\")\n",
    "\n",
    "            # Ensure the new filename doesn't end with a \".\"\n",
    "            new_file_name = new_file_name.rstrip(\".\")\n",
    "\n",
    "            # Copy the file\n",
    "            shutil.copy2(file_path, os.path.join(dest_dir, new_file_name))\n",
    "\n",
    "            pbar.update(1)  # Update progress\n",
    "\n",
    "    print(\"Flattening complete.\")\n",
    "\n",
    "\n",
    "def clean_email(email_text):\n",
    "    msg = email.message_from_string(email_text)\n",
    "    parsed = f\"Subject: {msg['Subject']}\\nFrom: {msg['From']}\\nTo: {msg['To']}\\nDate: {msg['Date']}\\n{msg.get_payload()}\"\n",
    "    return parsed\n",
    "\n",
    "def clear_directory(directory):\n",
    "    \"\"\"\n",
    "    Clear all files in the given directory.\n",
    "    \"\"\"\n",
    "    for filename in os.listdir(directory):\n",
    "        file_path = os.path.join(directory, filename)\n",
    "        if os.path.isfile(file_path) or os.path.islink(file_path):\n",
    "            os.unlink(file_path)\n",
    "        elif os.path.isdir(file_path):\n",
    "            shutil.rmtree(file_path)\n",
    "\n",
    "def sample_files(source_dir, dest_dir, n, exclude_dir=None):\n",
    "    \"\"\"\n",
    "    Randomly select n files from source_dir, skipping files in exclude_dir if provided, \n",
    "    clean their email content, and save them to dest_dir.\n",
    "    \"\"\"\n",
    "    if os.path.exists(dest_dir):\n",
    "        clear_directory(dest_dir)\n",
    "    else:\n",
    "        os.makedirs(dest_dir)\n",
    "\n",
    "    exclude_files = set(os.listdir(exclude_dir)) if exclude_dir and os.path.exists(exclude_dir) else set()\n",
    "\n",
    "    files = [f for f in os.listdir(source_dir) if os.path.isfile(os.path.join(source_dir, f)) and f not in exclude_files]\n",
    "\n",
    "    if len(files) < n:\n",
    "        print(\"Warning: Not enough files in the directory to select\", n, \"files.\")\n",
    "        n = len(files)\n",
    "\n",
    "    random.seed(1)\n",
    "\n",
    "    selected_files = random.sample(files, n)\n",
    "\n",
    "    for file in selected_files:\n",
    "        with open(os.path.join(source_dir, file), 'r', encoding='utf-8') as f:\n",
    "            content = f.read()\n",
    "        \n",
    "        cleaned_content = clean_email(content)\n",
    "\n",
    "        with open(os.path.join(dest_dir, file), 'w', encoding='utf-8') as f:\n",
    "            f.write(cleaned_content)\n",
    "\n",
    "    print(f\"{n} files have been processed and copied to {dest_dir}.\")\n",
    "\n",
    "\n",
    "def search_files(directory, word_list, destination_directory):\n",
    "    \"\"\"\n",
    "    Searches for text files in the specified directory that contain any of the words in the given word list.\n",
    "    The search is case-insensitive. Copies the matching files to a specified destination directory.\n",
    "\n",
    "    :param directory: The directory to search in.\n",
    "    :param word_list: A list of words to search for.\n",
    "    :param destination_directory: The directory where matching files will be copied to.\n",
    "    :return: A list of files that contain any of the words in the word list.\n",
    "    \"\"\"\n",
    "    matching_files = []\n",
    "\n",
    "    # Convert the word list to lowercase for case-insensitive comparison\n",
    "    word_list = [word.lower() for word in word_list]\n",
    "\n",
    "    # Create the destination directory if it doesn't exist\n",
    "    os.makedirs(destination_directory, exist_ok=True)\n",
    "\n",
    "    # Walk through all files and directories within the specified directory\n",
    "    for root, dirs, files in os.walk(directory):\n",
    "        for file in files:\n",
    "            file_path = os.path.join(root, file)\n",
    "            try:\n",
    "                with open(file_path, 'r') as f:\n",
    "                    file_content = f.read().lower()  # Convert content to lowercase\n",
    "                    # Check if any of the words in the word list are in the file content\n",
    "                    if any(word in file_content for word in word_list):\n",
    "                        matching_files.append(file_path)\n",
    "                        # Copy the file to the destination directory\n",
    "                        shutil.copy(file_path, destination_directory)\n",
    "            except Exception as e:\n",
    "                print(f\"Error reading file {file_path}: {e}\")\n",
    "\n",
    "    return matching_files\n"
   ]
  },
  {
   "cell_type": "code",
   "execution_count": 11,
   "id": "3d4ecec5dc11d8dc",
   "metadata": {
    "ExecuteTime": {
     "end_time": "2023-11-04T22:09:35.191597086Z",
     "start_time": "2023-11-04T22:08:33.789514920Z"
    },
    "collapsed": false
   },
   "outputs": [],
   "source": [
    "original_dir = \"maildir\"\n",
    "flat_dir = \"flattened_maildir\"\n",
    "sample_dir = \"sample_maildir\"\n"
   ]
  },
  {
   "cell_type": "code",
   "execution_count": 15,
   "metadata": {},
   "outputs": [
    {
     "name": "stderr",
     "output_type": "stream",
     "text": [
      "Processing Files: 100%|██████████| 517401/517401 [00:51<00:00, 9991.28it/s] "
     ]
    },
    {
     "name": "stdout",
     "output_type": "stream",
     "text": [
      "Flattening complete.\n"
     ]
    },
    {
     "name": "stderr",
     "output_type": "stream",
     "text": [
      "\n"
     ]
    }
   ],
   "source": [
    "\n",
    "flatten_directory(original_dir, flat_dir)"
   ]
  },
  {
   "cell_type": "code",
   "execution_count": 22,
   "metadata": {},
   "outputs": [
    {
     "name": "stdout",
     "output_type": "stream",
     "text": [
      "Error reading file flattened_maildir/taylor-m_all_documents_3452: 'utf-8' codec can't decode byte 0xff in position 384: invalid start byte\n",
      "Error reading file flattened_maildir/taylor-m_notes_inbox_2425: 'utf-8' codec can't decode byte 0x9b in position 271: invalid start byte\n",
      "Error reading file flattened_maildir/ybarbo-p_inbox_271: 'utf-8' codec can't decode byte 0xd8 in position 1041: invalid continuation byte\n",
      "Error reading file flattened_maildir/shankman-j_deleted_items_510: 'utf-8' codec can't decode byte 0xbf in position 502: invalid start byte\n",
      "Error reading file flattened_maildir/horton-s_discussion_threads_198: 'utf-8' codec can't decode byte 0xad in position 322: invalid start byte\n",
      "Error reading file flattened_maildir/taylor-m_notes_inbox_1591: 'utf-8' codec can't decode byte 0xff in position 384: invalid start byte\n",
      "Error reading file flattened_maildir/taylor-m_all_documents_7852: 'utf-8' codec can't decode byte 0x9b in position 272: invalid start byte\n",
      "Error reading file flattened_maildir/shackleton-s_stack__shari_3: 'utf-8' codec can't decode byte 0x9b in position 465: invalid start byte\n",
      "Error reading file flattened_maildir/taylor-m_all_documents_3474: 'utf-8' codec can't decode byte 0xff in position 421: invalid start byte\n",
      "Error reading file flattened_maildir/ybarbo-p_deleted_items_90: 'utf-8' codec can't decode byte 0xf8 in position 305: invalid start byte\n",
      "Error reading file flattened_maildir/taylor-m_notes_inbox_1149: 'utf-8' codec can't decode byte 0x9b in position 465: invalid start byte\n",
      "Error reading file flattened_maildir/whalley-g_inbox_390: 'utf-8' codec can't decode byte 0xbf in position 468: invalid start byte\n",
      "Error reading file flattened_maildir/haedicke-m_notes_inbox_344: 'utf-8' codec can't decode byte 0x9b in position 356: invalid start byte\n",
      "Error reading file flattened_maildir/taylor-m_all_documents_2813: 'utf-8' codec can't decode byte 0x9b in position 465: invalid start byte\n",
      "Error reading file flattened_maildir/ring-a_inbox_9: 'utf-8' codec can't decode byte 0xa0 in position 362: invalid start byte\n",
      "Error reading file flattened_maildir/horton-s_all_documents_209: 'utf-8' codec can't decode byte 0xad in position 323: invalid start byte\n",
      "Error reading file flattened_maildir/taylor-m_notes_inbox_1606: 'utf-8' codec can't decode byte 0xff in position 420: invalid start byte\n",
      "Error reading file flattened_maildir/horton-s_discussion_threads_60: 'utf-8' codec can't decode byte 0xad in position 348: invalid start byte\n",
      "Error reading file flattened_maildir/ybarbo-p_deleted_items_91: 'utf-8' codec can't decode byte 0xf8 in position 844: invalid start byte\n",
      "Error reading file flattened_maildir/shackleton-s_all_documents_1560: 'utf-8' codec can't decode byte 0x9b in position 466: invalid start byte\n",
      "Error reading file flattened_maildir/taylor-m_archive_8_00_32: 'utf-8' codec can't decode byte 0x9b in position 465: invalid start byte\n",
      "Error reading file flattened_maildir/haedicke-m_all_documents_2313: 'utf-8' codec can't decode byte 0x9b in position 356: invalid start byte\n",
      "Error reading file flattened_maildir/horton-s_all_documents_64: 'utf-8' codec can't decode byte 0xad in position 348: invalid start byte\n"
     ]
    },
    {
     "data": {
      "text/plain": [
       "1866"
      ]
     },
     "execution_count": 22,
     "metadata": {},
     "output_type": "execute_result"
    }
   ],
   "source": [
    "word_list = [\"urgent\", \"emergency\"]\n",
    "urgent_files = search_files(flat_dir, word_list, \"urgent_files\")\n",
    "len(urgent_files)\n"
   ]
  },
  {
   "cell_type": "code",
   "execution_count": 27,
   "metadata": {},
   "outputs": [
    {
     "name": "stdout",
     "output_type": "stream",
     "text": [
      "['haedicke-m_sent_896', 'white-s_inbox_33', 'jones-t_all_documents_2454', 'jones-t_all_documents_2765', 'gay-r_all_documents_15', 'mann-k__sent_mail_340', 'beck-s_all_documents_3045', 'guzman-m_discussion_threads_1252', 'jones-t_sent_1521', 'shankman-j_deleted_items_687', 'kean-s_archiving_untitled_4783', 'dasovich-j_notes_inbox_1548', 'symes-k_sent_123', 'shankman-j_deleted_items_35', 'lucci-p_deleted_items_455', 'heard-m_deleted_items_165', 'salisbury-h_inbox_1036', 'jones-t_sent_112', 'mann-k_all_documents_343', 'jones-t_notes_inbox_2634', 'kean-s_attachments_1245', 'derrick-j_inbox_167', 'dean-c_all_documents_156', 'salisbury-h_inbox_897', 'salisbury-h_inbox_1048', 'kean-s_calendar_untitled_2209', 'dean-c_all_documents_224', 'williams-w3_bill_williams_iii_745', 'kean-s_archiving_untitled_4813', 'mccarty-d_deleted_items_33', 'jones-t_all_documents_5419', 'mann-k_all_documents_933', 'derrick-j_deleted_items_244', 'kean-s_all_documents_959', 'kean-s_all_documents_1745', 'badeer-r_all_documents_201', 'haedicke-m_notes_inbox_5', 'corman-s_deleted_items_140', 'dasovich-j_all_documents_4496', 'shackleton-s_all_documents_10830', 'grigsby-m_sent_items_72', 'kaminski-v_all_documents_4245', 'hain-m_all_documents_545', 'lavorato-j__sent_mail_212', 'davis-d_personal_30', 'kaminski-v_all_documents_4629', 'shackleton-s_all_documents_10760', 'badeer-r_notes_inbox_52', 'jones-t_sent_501', 'dasovich-j_california_crisis__press_20', 'shackleton-s_nelson_79', 'bailey-s_deleted_items_82', 'beck-s_deleted_items_4', 'causholli-m_inbox_93', 'kitchen-l__americas_esvl_570', 'kaminski-v__sent_mail_1819', 'dasovich-j_notes_inbox_1000', 'griffith-j_move_3', 'hyatt-k_deleted_items_387', 'jones-t_sent_1716', 'shackleton-s_sent_5952', 'kean-s_archiving_untitled_1176', 'pimenov-v_inbox_76', 'badeer-r_discussion_threads_87', 'maggi-m_deleted_items_189', 'love-p_sent_498', 'shapiro-r_all_documents_1813', 'shackleton-s_nelson_2', 'guzman-m_notes_inbox_1585', 'ward-k_all_documents_61', 'dasovich-j_sent_2951', 'dasovich-j_all_documents_8451', 'taylor-m_sent_items_95', 'shackleton-s_deleted_items_503', 'lavorato-j_sent_items_238', 'tycholiz-b_sent_items_188', 'jones-t_all_documents_3715', 'blair-l_itinerary_off_duty_5', 'kean-s_discussion_threads_7011', 'guzman-m_notes_inbox_1406', 'rapp-b_inbox_126', 'williams-w3_bill_williams_iii_880', 'watson-k_e_mail_bin_302', 'stokley-c_chris_stokley_sent_122', 'ward-k_sent_items_332', 'dasovich-j_sent_12095', 'hain-m_discussion_threads_366', 'kaminski-v_sent_4547', 'jones-t_inbox_416', 'perlingiere-d_deleted_items_547', 'kean-s_calendar_untitled_7927', 'salisbury-h_sent_items_136', 'kaminski-v_all_documents_9426', 'kaminski-v_discussion_threads_291', 'lokay-m_all_documents_1964', 'gilbertsmith-d_inbox_20', 'shapiro-r_federal_gov_t_affairs_9', 'williams-w3_bill_williams_iii_86', 'germany-c_discussion_threads_1023', 'taylor-m_all_documents_377', 'griffith-j_move_2', 'kaminski-v_c_mangmt_ene_ect_182', 'campbell-l_inbox_989', 'taylor-m_sent_808', 'dasovich-j_all_documents_4556', 'dasovich-j_notes_inbox_11857', 'platter-p_inbox_84', 'salisbury-h_inbox_1137', 'salisbury-h_inbox_50', 'harris-s_deleted_items_260', 'kean-s_calendar_untitled_8562', 'mann-k_all_documents_2264', 'love-p__sent_mail_501', 'arnold-j_deleted_items_662', 'dasovich-j_all_documents_7961', 'dean-c_inbox_300', 'lavorato-j_inbox_306', 'mcconnell-m__sent_mail_180', 'salisbury-h_inbox_968', 'kitchen-l_deleted_items_159', 'fossum-d_notes_inbox_162', 'taylor-m_all_documents_3299', 'dasovich-j_all_documents_12925', 'dean-c_discussion_threads_221', 'lokay-m_systems_5', 'guzman-m_notes_inbox_679', 'delainey-d_deleted_items_3', 'kaminski-v__sent_mail_1468', 'campbell-l_weekly_activity_report_9', 'jones-t_all_documents_4215', 'kean-s_archiving_untitled_435', 'sanders-r_deleted_items_392', 'fossum-d_all_documents_1553', 'jones-t_all_documents_10548', 'dasovich-j_notes_inbox_13844', 'dasovich-j_all_documents_8717', 'derrick-j_inbox_76', 'whitt-m_inbox_188', 'kaminski-v_discussion_threads_5385', 'kitchen-l_sent_items_118', 'salisbury-h_read_74', 'mann-k_all_documents_1570', 'farmer-d_industrials_321', 'williams-w3_bill_williams_iii_877', 'dasovich-j_all_documents_28995', 'germany-c_pending_4', 'lay-k_inbox_739', 'campbell-l_inbox_1107', 'dasovich-j_inbox_449', 'whalley-g_all_documents_362', 'dasovich-j_sent_4515', 'mann-k_all_documents_1537', 'kean-s_discussion_threads_1489', 'dean-c_notes_inbox_20', 'symes-k_sent_630', 'dasovich-j_notes_inbox_1390', 'salisbury-h_inbox_1149', 'rogers-b_sent_102', 'salisbury-h_inbox_1035', 'derrick-j_inbox_137', 'shackleton-s_nelson_374', 'jones-t_inbox_33', 'jones-t_all_documents_9301', 'kean-s_all_documents_8712', 'farmer-d_all_documents_84', 'mann-k_yazoo_city_18', 'hodge-j_deleted_items_439', 'keiser-k_inbox_172', 'holst-k_inbox_61', 'haedicke-m_inbox_595', 'haedicke-m_all_documents_1374', 'jones-t_notes_inbox_2455', 'salisbury-h_inbox_159', 'campbell-l_discussion_threads_1132', 'beck-s_all_documents_43', 'badeer-r_notes_inbox_43', 'dasovich-j_notes_inbox_5319', 'williams-w3_bill_williams_iii_740', 'guzman-m_discussion_threads_199', 'haedicke-m_sent_135', 'salisbury-h_inbox_1131', 'kean-s_attachments_1572', 'kean-s_all_documents_966', 'taylor-m_notes_inbox_1880', 'mclaughlin-e_deleted_items_428', 'hayslett-r_sent_items_73', 'taylor-m_sent_1531', 'lokay-m_all_documents_497', 'salisbury-h_inbox_939', 'skilling-j_deleted_items_87', 'kean-s_all_documents_1005', 'fischer-m_notes_inbox_324', 'gay-r_all_documents_7', 'shackleton-s_deleted_items_363', 'weldon-c_sent_items_172', 'mann-k_notes_inbox_659', 'jones-t_deleted_items_20', 'solberg-g_deleted_items_240', 'kean-s_discussion_threads_3369', 'cash-m_deleted_items_213', 'dasovich-j_notes_inbox_2372', 'taylor-m_online_trading_184', 'farmer-d_logistics_218', 'love-p_all_documents_659', 'badeer-r_all_documents_52', 'hain-m_notes_inbox_778', 'shankman-j_discussion_threads_458', 'derrick-j_deleted_items_307', 'steffes-j_deleted_items_612', 'dasovich-j_inbox_1642', 'sanders-r_all_documents_3862', 'dasovich-j_notes_inbox_4746', 'shackleton-s_all_documents_9932', 'dasovich-j_all_documents_4359', 'beck-s_inbox_124', 'kean-s_all_documents_6522', 'mims-thurston-p__sent_mail_174', 'taylor-m_sent_614', 'hayslett-r_deleted_items_39', 'mann-k__sent_mail_3093', 'kean-s_california___emergency_authority_1', 'skilling-j_inbox_269', 'mann-k__sent_mail_1996', 'perlingiere-d_sent_2720', 'kean-s_attachments_1221', 'schoolcraft-d_sent_items_186', 'campbell-l_all_documents_468', 'jones-t_deleted_items_57', 'mann-k__sent_mail_3956', 'dasovich-j_all_documents_12131', 'perlingiere-d_sent_2717', 'kean-s_discussion_threads_1410', 'meyers-a_deleted_items_1072', 'shackleton-s_all_documents_10280', 'mann-k_discussion_threads_3783', 'salisbury-h_inbox_633', 'fischer-m_discussion_threads_333', 'mann-k_sent_289', 'dean-c_inbox_6', 'kaminski-v_all_documents_10737', 'cash-m_inbox_124', 'griffith-j_all_documents_223', 'kean-s_archiving_untitled_4801', 'kean-s_discussion_threads_1640', 'hodge-j_inbox_13', 'mann-k_sent_650', 'kaminski-v_all_documents_4330', 'shapiro-r_discussion_threads_223', 'williams-w3_bill_williams_iii_878', 'kaminski-v_sent_1467', 'kaminski-v_discussion_threads_4589', 'rogers-b_discussion_threads_1836', 'grigsby-m_deleted_items_72', 'shackleton-s_all_documents_10545', 'rogers-b_sent_items_5', 'saibi-e_inbox_833', 'hernandez-j_notes_inbox_70', 'kean-s_calendar_untitled_7034', 'dasovich-j_all_documents_28814', 'dasovich-j_notes_inbox_313', 'cash-m_deleted_items_364', 'white-s_sent_items_390', 'shapiro-r_southern_cone_2', 'kean-s_heat_wave_220', 'dasovich-j_all_documents_3685', 'dasovich-j_notes_inbox_2901', 'lokay-m_articles_61', 'lewis-a_deleted_items_578', 'dasovich-j_notes_inbox_4352', 'lokey-t_inbox_721', 'lokey-t_deleted_items_55', 'sanders-r_deleted_items_340', 'rodrique-r_sent_466', 'kean-s_all_documents_6381', 'dasovich-j_sent_3253', 'farmer-d_deleted_items_320', 'richey-c_deleted_items_17', 'hain-m_discussion_threads_120', 'dasovich-j_all_documents_28991', 'williams-w3_bill_williams_iii_783', 'guzman-m_all_documents_1774', 'rogers-b_all_documents_114', 'guzman-m_discussion_threads_728', 'kean-s_discussion_threads_874', 'williams-w3_bill_williams_iii_472', 'heard-m_inbox_327', 'taylor-m_all_documents_866', 'kean-s_archiving_untitled_1909', 'carson-m_deleted_items_63', 'kaminski-v_sent_2146', 'badeer-r_all_documents_42', 'kean-s_discussion_threads_2816', 'jones-t_all_documents_122', 'kean-s_california_585', 'lokey-t_inbox_807', 'jones-t_all_documents_2763', 'kean-s_all_documents_967', 'sanders-r_sent_2184', 'salisbury-h_inbox_1017', 'fossum-d_all_documents_898', 'shackleton-s_notes_inbox_2506', 'shackleton-s_all_documents_10761', 'symes-k_all_documents_300', 'stokley-c_chris_stokley_iso_mrkt_info_60', 'kean-s_calendar_untitled_8550', 'derrick-j_sent_items_440', 'dasovich-j_sent_679', 'badeer-r_notes_inbox_61', 'campbell-l_inbox_155', 'gang-l_deleted_items_431', 'dasovich-j_notes_inbox_4482', 'farmer-d_tufco_345', 'hyvl-d_sent_121', 'sanders-r_notes_inbox_218', 'rogers-b_sent_38', 'shackleton-s_deleted_items_97', 'jones-t_sent_498', 'kean-s_project_california_17', 'dean-c_notes_inbox_7', 'fischer-m_discussion_threads_312', 'kean-s_california_266', 'fossum-d__sent_mail_815', 'hernandez-j_all_documents_154', 'taylor-m_sent_items_26', 'salisbury-h_inbox_631', 'farmer-d_all_documents_1107', 'kaminski-v_all_documents_9517', 'shackleton-s_nelson_117', 'kitchen-l__americas_esvl_836', 'shackleton-s_all_documents_10064', 'whitt-m_inbox_85', 'haedicke-m_sent_660', 'guzman-m_all_documents_683', 'williams-w3_bill_williams_iii_20', 'kaminski-v_discussion_threads_5516', 'kaminski-v_sent_items_259', 'dean-c_notes_inbox_64', 'taylor-m_sent_1146', 'mckay-j_deleted_items_233', 'campbell-l_sent_156', 'kean-s_calendar_untitled_8533', 'kean-s_all_documents_5467', 'kitchen-l__americas_tammie_11', 'taylor-m_all_documents_379', 'taylor-m_time_off_44', 'cash-m_sent_items_472', 'mann-k_all_documents_5701', 'lokay-m_discussion_threads_467', 'mann-k_sent_730', 'symes-k__sent_mail_63', 'gay-r_sent_86', 'shackleton-s_notes_inbox_1261', 'kean-s_attachments_686', 'dasovich-j_notes_inbox_1321', 'mcconnell-m_sent_375', 'presto-k_deleted_items_1542', 'kaminski-v_notes_inbox_192', 'haedicke-m_inbox_326', 'perlingiere-d_all_documents_2864', 'kean-s_security_40', 'staab-t_deleted_items_31', 'lay-k_all_documents_51', 'solberg-g_deleted_items_641', 'davis-d_deleted_items_90', 'salisbury-h_inbox_924', 'dasovich-j_notes_inbox_12132', 'dasovich-j_all_documents_29376', 'bailey-s_all_documents_14', 'taylor-m_uk_trading_19', 'kaminski-v_london_44', 'badeer-r_discussion_threads_235', 'shackleton-s_sent_1970', 'cash-m_sent_items_466', 'sanders-r_all_documents_2098', 'kaminski-v_discussion_threads_1388', 'dean-c_deleted_items_9', 'cash-m_sent_items_320', 'hain-m_notes_inbox_798', 'dasovich-j_all_documents_1612', 'jones-t_all_documents_513', 'jones-t_all_documents_5684', 'dasovich-j_sent_319', 'kean-s_all_documents_1654', 'shackleton-s_notes_inbox_289', 'lay-k_discussion_threads_452', 'may-l_inbox_694', 'gang-l_deleted_items_481', 'ybarbo-p_inbox_571', 'mann-k_all_documents_6228', 'dasovich-j_notes_inbox_214', 'watson-k_california_6', 'beck-s_inbox_293', 'mann-k_sent_4096', 'campbell-l_all_documents_1257', 'salisbury-h_inbox_726', 'hain-m_all_documents_1156', 'taylor-m_sent_1492', 'cash-m_sent_items_312', 'mann-k_sent_1204', 'rogers-b_deleted_items_139', 'hyvl-d_all_documents_152', 'salisbury-h_inbox_791', 'grigsby-m_notes_inbox_142', 'scott-s_notes_inbox_36', 'dasovich-j_all_documents_1540', 'jones-t_sent_500', 'kitchen-l__americas_hr_26', 'kean-s_canada_9', 'presto-k_deleted_items_1341', 'shackleton-s_sent_2551', 'jones-t_all_documents_2134', 'dasovich-j_notes_inbox_5790', 'kean-s_discussion_threads_3327', 'dasovich-j_all_documents_8457', 'dasovich-j_sent_12091', 'dasovich-j_notes_inbox_3545', 'shackleton-s_notes_inbox_2832', 'jones-t_all_documents_1230', 'dasovich-j_all_documents_8371', 'mcconnell-m_all_documents_806', 'jones-t_all_documents_9067', 'shackleton-s_nelson_3', 'dasovich-j_all_documents_7925', 'jones-t_all_documents_574', 'watson-k_e_mail_bin_527', 'cash-m_inbox_279', 'buy-r_inbox_390', 'kaminski-v_discussion_threads_995', 'salisbury-h_inbox_806', 'farmer-d_discussion_threads_1848', 'shackleton-s_sent_5718', 'salisbury-h_inbox_1117', 'taylor-m_sent_312', 'williams-w3_tie_meter_multipliers_3', 'beck-s__sent_mail_452', 'beck-s_notes_inbox_195', 'salisbury-h_read_50', 'dorland-c_deleted_items_196', 'salisbury-h_read_129', 'forney-j_deleted_items_9', 'kean-s_archiving_untitled_119', 'kaminski-v_c_technote_mail_projects_227', 'jones-t_notes_inbox_2798', 'bass-e_all_documents_16', 'shackleton-s_nelson_44', 'shackleton-s_notes_inbox_2182', 'salisbury-h_inbox_980', 'lavorato-j_old_inbox_97', 'jones-t_all_documents_516', 'sanders-r_sent_items_194', 'dasovich-j_all_documents_8343', 'shapiro-r_deleted_items_247', 'mann-k__sent_mail_3116', 'taylor-m_uk_trading_8', 'dasovich-j_all_documents_8748', 'dasovich-j_notes_inbox_1342', 'dasovich-j_all_documents_74', 'linder-e_notes_inbox_702', 'hain-m_all_documents_922', 'dasovich-j_all_documents_13024', 'whalley-l_discussion_threads_1302', 'dasovich-j_all_documents_9874', 'fossum-d_notes_inbox_205', 'bailey-s_notes_inbox_3', 'gay-r_sent_15', 'shackleton-s_sent_2545', 'dasovich-j_all_documents_9172', 'dasovich-j_all_documents_12924', 'dasovich-j_all_documents_9776', 'jones-t_sent_5423', 'kean-s_calendar_untitled_417', 'dasovich-j_notes_inbox_31', 'dasovich-j_notes_inbox_2408', 'taylor-m_notes_inbox_1860', 'parks-j_deleted_items_518', 'crandell-s_sent_items_4', 'salisbury-h_inbox_938', 'forney-j_sent_items_415', 'shackleton-s_all_documents_3285', 'taylor-m_archive_november1999_37', 'kaminski-v_c_technote_mail_projects_111', 'gang-l_deleted_items_241', 'haedicke-m_all_documents_168', 'corman-s_inbox_archives_330', 'dasovich-j_notes_inbox_3445', 'jones-t_all_documents_65', 'perlingiere-d_deleted_items_548', 'mann-k__sent_mail_3607', 'germany-c_all_documents_1571', 'lokay-m_systems_125', 'dasovich-j_notes_inbox_3512', 'hain-m__sent_mail_260', 'shapiro-r_all_documents_322', 'kean-s_discussion_threads_3154', 'shankman-j_all_documents_223', 'kitchen-l_deleted_items_184', 'cash-m_sent_items_321', 'donoho-l_inbox_junk_file_404', 'kean-s_pr_crisis_management_47', 'williams-w3_bill_williams_iii_19', 'dasovich-j_notes_inbox_3550', 'hain-m__sent_mail_305', 'kaminski-v_discussion_threads_5029', 'kitchen-l_sent_items_688', 'salisbury-h_inbox_895', 'benson-r_deleted_items_30', 'rogers-b_deleted_items_100', 'corman-s_deleted_items_345', 'salisbury-h_read_109', 'kaminski-v_deleted_items_2373', 'taylor-m_all_documents_291', 'dasovich-j_all_documents_2272', 'taylor-m_all_documents_1193', 'shively-h_deleted_items_66', 'williams-w3_tie_meter_multipliers_1', 'lay-k__sent_6', 'dasovich-j_notes_inbox_4058', 'kaminski-v_c_technote_mail_projects_250', 'taylor-m_archive_11_99_37', 'panus-s_deleted_items_93', 'dasovich-j_sent_1319', 'salisbury-h_inbox_913', 'dasovich-j_notes_inbox_2646', 'jones-t_all_documents_3281', 'jones-t_sent_65', 'taylor-m_notes_inbox_3133', 'shackleton-s_all_documents_9063', 'donoho-l_inbox_junk_file_309', 'mann-k_sent_1177', 'kitchen-l_deleted_items_182', 'jones-t_all_documents_4370', 'scott-s_inbox_109', 'richey-c_inbox_76', 'guzman-m_all_documents_1594', 'pimenov-v_inbox_89', 'kean-s_all_documents_412', 'williams-w3_sent_items_24', 'kean-s_calendar_untitled_966', 'forney-j_inbox_149', 'salisbury-h_inbox_466', 'salisbury-h_read_156', 'jones-t_notes_inbox_2816', 'beck-s_discussion_threads_3743', 'taylor-m_all_documents_3917', 'jones-t_sent_544', 'shackleton-s_all_documents_1831', 'lokey-t_inbox_621', 'lay-k_inbox_1709', 'taylor-m_sent_items_275', 'sager-e_sent_234', 'kaminski-v_c_technote_mail_projects_514', 'dorland-c_deleted_items_105', 'kaminski-v_sent_items_651', 'campbell-l_notes_inbox_150', 'dasovich-j_inbox_826', 'badeer-r_all_documents_43', 'sanders-r_sent_622', 'rogers-b_genco_jv_ipo_27', 'hain-m__sent_mail_321', 'benson-r_inbox_101', 'slinger-r_deleted_items_93', 'sanders-r_all_documents_3708', 'kean-s_sent_items_133', 'kean-s_africa_1', 'dasovich-j_all_documents_7815', 'kean-s_all_documents_5437', 'kean-s_heat_wave_28', 'keavey-p_all_documents_193', 'kean-s_calendar_untitled_1746', 'shackleton-s_all_documents_3654', 'nemec-g_all_documents_410', 'shackleton-s_all_documents_9931', 'kean-s_all_documents_417', 'symes-k_sent_12', 'guzman-m_notes_inbox_1419', 'farmer-d_industrials_320', 'kean-s_california_252', 'crandell-s_deleted_items_89', 'shackleton-s_all_documents_10323', 'donoho-l_deleted_items_54', 'shankman-j_deleted_items_613', 'beck-s_europe_120', 'corman-s_inbox_archives_old_messages_64', 'campbell-l_notes_inbox_327', 'dasovich-j_deleted_items_113', 'fossum-d_all_documents_679', 'dasovich-j_all_documents_8459', 'mcconnell-m_discussion_threads_185', 'kaminski-v_discussion_threads_4698', 'sanders-r_notes_inbox_178', 'corman-s_sent_items_256', 'symes-k_discussion_threads_30', 'taylor-m_sent_1438', 'kaminski-v_all_documents_9603', 'mann-k_discussion_threads_4428', 'kean-s_archiving_untitled_1369', 'scott-s_all_documents_1413', 'dasovich-j_all_documents_12580', 'kean-s_attachments_959', 'mann-k_notes_inbox_514', 'mann-k_sent_4299', 'shackleton-s_sent_6127', 'salisbury-h_read_104', 'kean-s_attachments_980', 'presto-k_sent_items_638', 'dasovich-j_all_documents_8452', 'jones-t_inbox_59', 'derrick-j_sent_items_325', 'germany-c_all_documents_2530', 'beck-s_discussion_threads_4200', 'dasovich-j_inbox_195', 'kean-s_discussion_threads_5727', 'dasovich-j_all_documents_2438', 'saibi-e_inbox_385', 'kean-s_discussion_threads_2023', 'guzman-m_notes_inbox_1682', 'rogers-b_all_documents_109', 'williams-w3_sent_items_438', 'dasovich-j_all_documents_4571', 'jones-t_notes_inbox_1528', 'dasovich-j_notes_inbox_5027', 'jones-t_notes_inbox_2632', 'jones-t_notes_inbox_653', 'campbell-l_all_documents_1200', 'mann-k_all_documents_799', 'shankman-j_all_documents_877', 'mccarty-d_sent_items_8', 'taylor-m_sent_310', 'shankman-j_all_documents_641', 'heard-m_deleted_items_157', 'scott-s_discussion_threads_764', 'dasovich-j_all_documents_2436', 'love-p__sent_mail_498', 'salisbury-h_inbox_925', 'solberg-g_inbox_126', 'dasovich-j_all_documents_7901', 'fischer-m_notes_inbox_2', 'forney-j_inbox_87', 'parks-j_sent_items_166', 'lokay-m_all_documents_836', 'kean-s_calendar_untitled_1249', 'skilling-j_discussion_threads_1116', 'shankman-j_deleted_items_275', 'skilling-j_inbox_911', 'hain-m_discussion_threads_164', 'dasovich-j_all_documents_28377', 'kaminski-v_all_documents_3920', 'shackleton-s_sent_2370', 'kean-s_notes_inbox_89', 'whalley-g_inbox_305', 'benson-r_inbox_98', 'badeer-r_all_documents_286', 'shackleton-s_all_documents_11042', 'kaminski-v_discussion_threads_7721', 'lavorato-j_phone_numbers_4', 'white-s_sent_items_310', 'derrick-j_inbox_163', 'kean-s_archiving_untitled_6521', 'badeer-r_california_38', 'shackleton-s_nelson_75', 'kean-s_archiving_untitled_1915', 'dean-c_inbox_304', 'campbell-l_notes_inbox_100', 'dasovich-j_sent_items_85', 'symes-k__sent_mail_1313', 'shankman-j_sent_537', 'dasovich-j_notes_inbox_5721', 'jones-t_all_documents_9104', 'kean-s_calendar_untitled_967', 'badeer-r_discussion_threads_233', 'buy-r_deleted_items_25', 'skilling-j__sent_mail_71', 'shackleton-s_all_documents_3452', 'salisbury-h_inbox_1027', 'kean-s_all_documents_6209', 'jones-t_sent_122', 'tycholiz-b_inbox_14', 'skilling-j_sent_67', 'dasovich-j_all_documents_4563', 'fossum-d_discussion_threads_1069', 'jones-t_all_documents_527', 'dasovich-j_all_documents_12732', 'kean-s_discussion_threads_3342', 'kean-s_archiving_untitled_125', 'mclaughlin-e_inbox_406', 'salisbury-h_read_73', 'cash-m_deleted_items_332', 'jones-t_all_documents_2452', 'dorland-c_sent_items_508', 'kean-s_all_documents_411', 'linder-e_discussion_threads_237', 'dasovich-j_deleted_items_1706', 'keiser-k_deleted_items_74', 'kean-s_all_documents_5042', 'meyers-a_deleted_items_318', 'kean-s_attachments_1540', 'lavorato-j_all_documents_430', 'kitchen-l__americas_regulatory_207', 'haedicke-m_all_documents_299', 'williams-w3_bill_williams_iii_362', 'fossum-d_discussion_threads_804', 'guzman-m_notes_inbox_1143', 'sager-e_all_documents_1160', 'jones-t_notes_inbox_2312', 'jones-t_all_documents_4866', 'arnold-j_all_documents_94', 'salisbury-h_inbox_944', 'mann-k_all_documents_798', 'dasovich-j_all_documents_12222', 'kaminski-v__sent_mail_1467', 'farmer-d_industrials_333', 'mclaughlin-e_all_documents_475', 'jones-t_notes_inbox_4268', 'hain-m_all_documents_1160', 'salisbury-h_inbox_865', 'mcconnell-m_sent_181', 'fossum-d_notes_inbox_29', 'dasovich-j_all_documents_10492', 'kean-s_archiving_untitled_78', 'scott-s_deleted_items_382', 'lokay-m_all_documents_816', 'dasovich-j_all_documents_11990', 'griffith-j_move_4', 'williams-w3_sent_items_83', 'kitchen-l_sent_items_150', 'shackleton-s_sent_items_2', 'jones-t_sent_items_171', 'shackleton-s_nelson_85', 'dasovich-j_notes_inbox_4705', 'reitmeyer-j_inbox_195', 'beck-s_discussion_threads_452', 'badeer-r_discussion_threads_225', 'shackleton-s_organizational_changes_24', 'bailey-s_deleted_items_257', 'mann-k_sent_1705', 'gay-r_all_documents_86', 'haedicke-m_inbox_593', 'taylor-m_archive_8_00_117', 'arnold-j_deleted_items_235', 'sanders-r_sent_1167', 'williams-w3_bill_williams_iii_106', 'jones-t_all_documents_5886', 'mims-thurston-p_sent_78', 'white-s_inbox_201', 'fischer-m_all_documents_84', 'kaminski-v_c_mangmt_group_software_management_346', 'davis-d_discussion_threads_125', 'dasovich-j_all_documents_8743', 'mclaughlin-e_sent_83', 'mann-k_sent_729', 'mann-k__sent_mail_3606', 'kitchen-l__americas_esvl_616', 'haedicke-m_all_documents_283', 'taylor-m_deleted_items_141', 'dasovich-j_all_documents_28400', 'shackleton-s_all_documents_11120', 'cash-m_all_documents_158', 'kaminski-v_deleted_items_2134', 'steffes-j_sent_items_1540', 'hayslett-r_inbox_247', 'dasovich-j_all_documents_1245', 'rapp-b_inbox_180', 'kean-s_archiving_untitled_582', 'beck-s_all_documents_3374', 'crandell-s_sent_items_150', 'kean-s_archiving_untitled_1361', 'dasovich-j_sent_680', 'shackleton-s_all_documents_10148', 'kaminski-v_sent_1818', 'kitchen-l_deleted_items_242', 'kean-s_discussion_threads_1001', 'dasovich-j_deleted_items_311', 'kean-s_sent_266', 'davis-d_all_documents_225', 'williams-w3_inbox_5', 'keavey-p__sent_mail_54', 'kean-s_calendar_untitled_1655', 'lokey-t_deleted_items_60', 'fossum-d_discussion_threads_767', 'jones-t_notes_inbox_2006', 'dasovich-j_sent_3829', 'kean-s_sent_515', 'jones-t_all_documents_3243', 'stokley-c_chris_stokley_iso_mrkt_info_33', 'kaminski-v_sent_items_1175', 'baughman-d_deleted_items_98', 'parks-j_sent_items_172', 'beck-s_all_documents_1449', 'skilling-j_inbox_410', 'schwieger-j_deleted_items_167', 'dasovich-j_notes_inbox_2967', 'jones-t_sent_1522', 'semperger-c_sent_items_202', 'kean-s_calendar_untitled_6983', 'kitchen-l_deleted_items_15', 'kean-s_archiving_untitled_401', 'kean-s_archiving_untitled_106', 'shackleton-s_all_documents_9537', 'kean-s_contact_list_53', 'williams-w3_bill_williams_iii_372', 'symes-k_all_documents_1856', 'shackleton-s_sent_items_630', 'kaminski-v__sent_mail_4102', 'dasovich-j_inbox_175', 'heard-m_sent_items_353', 'davis-d_sent_68', 'kaminski-v_all_documents_10607', 'fischer-m_discussion_threads_339', 'motley-m_inbox_62', 'brawner-s_deleted_items_25', 'farmer-d_logistics_2126', 'stokley-c_chris_stokley_sent_142', 'kean-s_discussion_threads_7248', 'dasovich-j_all_documents_10348', 'kaminski-v_discussion_threads_4697', 'mccarty-d_deleted_items_269', 'scott-s_all_documents_916', 'salisbury-h_inbox_831', 'kean-s_notes_inbox_435', 'dasovich-j_deleted_items_1076', 'rogers-b_discussion_threads_1842', 'campbell-l_inbox_494', 'gay-r_all_documents_56', 'mclaughlin-e_discussion_threads_403', 'kean-s_federal_emergency_1', 'farmer-d_discussion_threads_2440', 'watson-k_deleted_items_159', 'mann-k_discussion_threads_1077', 'mckay-j_deleted_items_30', 'kean-s_attachments_1012', 'white-s_deleted_items_212', 'cash-m_deleted_items_409', 'mann-k_sent_1190', 'dorland-c_sent_items_251', 'dasovich-j_sent_601', 'taylor-m_notes_inbox_46', 'benson-r_inbox_291', 'hodge-j_all_documents_281', 'jones-t_sent_5388', 'hayslett-r_sent_items_553', 'kean-s_calendar_untitled_411', 'dasovich-j_deleted_items_560', 'shackleton-s_nelson_40', 'kean-s_calendar_untitled_8665', 'campbell-l_all_documents_970', 'kean-s_all_documents_4831', 'beck-s_sent_800', 'germany-c_discussion_threads_792', 'skilling-j_inbox_22', 'watson-k_sent_items_692', 'guzman-m_all_documents_1907', 'mclaughlin-e_deleted_items_41', 'germany-c_systems_30', 'dasovich-j_notes_inbox_5773', 'germany-c_all_documents_924', 'shackleton-s_sent_5955', 'davis-d_sent_70', 'beck-s_discussion_threads_4019', 'mann-k_inbox_61', 'jones-t_all_documents_112', 'scholtes-d_it_3', 'mcconnell-m_all_documents_590', 'lay-k_notes_inbox_343', 'rogers-b__sent_mail_102', 'shackleton-s_sent_6151', 'symes-k_rainy_day_14', 'lay-k_inbox_256', 'sanders-r_all_documents_5227', 'kaminski-v_all_documents_3571', 'kitchen-l__americas_east_power_79', 'arnold-j_deleted_items_505', 'beck-s_discussion_threads_1572', 'dasovich-j_notes_inbox_6082', 'salisbury-h_inbox_158', 'buy-r_sent_items_185', 'sanders-r_all_documents_2126', 'kaminski-v__sent_mail_4375', 'sanders-r_all_documents_5186', 'kean-s_archiving_untitled_5436', 'kean-s_contact_list_19', 'badeer-r_all_documents_61', 'kitchen-l__americas_sec_11', 'beck-s_all_documents_2012', 'white-s_meetings_365', 'baughman-d_enron_power_fundamentals_4', 'sager-e_sent_779', 'davis-d_discussion_threads_156', 'kean-s_archiving_untitled_6208', 'salisbury-h_sent_items_81', 'mclaughlin-e_inbox_188', 'jones-t_all_documents_4373', 'beck-s_all_documents_3678', 'rogers-b_all_documents_85', 'allen-p_all_documents_11', 'kaminski-v_conferences_231', 'kean-s_all_documents_2202', 'griffith-j_deleted_items_128', 'linder-e_all_documents_238', 'jones-t_all_documents_2180', 'beck-s__sent_mail_922', 'allen-p_discussion_threads_457', 'kean-s_attachments_1180', 'kaminski-v_discussion_threads_7722', 'shackleton-s_sent_1234', 'shapiro-r_deleted_items_898', 'storey-g_deleted_items_45', 'taylor-m_all_documents_8559', 'fossum-d_discussion_threads_599', 'dasovich-j_all_documents_27892', 'jones-t_sent_2035', 'pimenov-v_deleted_items_14', 'symes-k_discussion_threads_277', 'shackleton-s_sent_6207', 'dasovich-j_sent_3272', 'kitchen-l__americas_hr_25', 'mann-k__sent_mail_3531', 'staab-t_deleted_items_32', 'taylor-m_uk_trading_18', 'shackleton-s_sent_items_634', 'mccarty-d_inbox_alaska_gas_108', 'lavorato-j_sent_536', 'lay-k_inbox_339', 'dasovich-j_notes_inbox_2455', 'lokey-t_inbox_224', 'lokay-m_discussion_threads_788', 'dasovich-j_all_documents_12161', 'shackleton-s_all_documents_10299', 'hodge-j_inbox_59', 'mann-k__sent_mail_3532', 'shapiro-r_europe_48', 'saibi-e_inbox_113', 'taylor-m_notes_inbox_1558', 'kean-s_all_documents_1151', 'kaminski-v_sent_1466', 'love-p__sent_mail_497', 'campbell-l_all_documents_1150', 'ermis-f_inbox_166', 'shackleton-s_sent_5921', 'mann-k_deleted_items_27', 'williams-w3_bill_williams_iii_443', 'nemec-g_inbox_1101', 'cash-m_sent_items_203', 'griffith-j_all_documents_210', 'taylor-m_all_documents_3558', 'shapiro-r_new_england_ny_12', 'shackleton-s_all_documents_9928', 'beck-s__sent_mail_1053', 'holst-k_inbox_60', 'kean-s_discussion_threads_2790', 'shapiro-r_discussion_threads_224', 'kean-s_calendar_untitled_1005', 'shackleton-s_sent_5583', 'salisbury-h_read_120', 'salisbury-h_inbox_1153', 'salisbury-h_read_122', 'kaminski-v_all_documents_3807', 'weldon-c_deleted_items_29', 'kean-s_all_documents_1926', 'kean-s_all_documents_9006', 'campbell-l_discussion_threads_390', 'kean-s_discussion_threads_369', 'kean-s_attachments_1784', 'kean-s_calendar_untitled_2250', 'steffes-j_california_issues_113', 'taylor-m_all_documents_2963', 'fossum-d_all_documents_1079', 'platter-p_inbox_332', 'rogers-b_genco_jv_ipo_65', 'mcconnell-m_sent_545', 'taylor-m_all_documents_66', 'kean-s_discussion_threads_1610', 'neal-s_deleted_items_150', 'lokey-t_inbox_622', 'cash-m_prc_7', 'beck-s_sent_1060', 'hain-m__sent_mail_257', 'allen-p_discussion_threads_221', 'mann-k_all_documents_4357', 'lokey-t_sent_items_145', 'love-p_sent_497', 'white-s_sent_items_81', 'slinger-r_sent_items_39', 'dasovich-j_sent_11787', 'kean-s_archiving_untitled_5466', 'salisbury-h_inbox_790', 'kean-s_contact_list_9', 'mann-k_all_documents_932', 'kean-s_deleted_items_406', 'germany-c__sent_mail_1803', 'kean-s_all_documents_4699', 'dasovich-j_notes_inbox_3696', 'hernandez-j_discussion_threads_484', 'keavey-p_discussion_threads_19', 'rapp-b_inbox_405', 'farmer-d_cleburne_plant____cornhusker__182', 'dasovich-j_deleted_items_1717', 'mann-k_all_documents_5365', 'fossum-d_sent_1110', 'sturm-f_deleted_items_79', 'shackleton-s_sent_5901', 'taylor-m_all_documents_293', 'taylor-m_all_documents_1819', 'platter-p_inbox_58', 'rogers-b__sent_mail_38', 'haedicke-m_all_documents_1082', 'fischer-m_all_documents_400', 'kitchen-l_sent_items_711', 'schwieger-j_deleted_items_166', 'mann-k_discussion_threads_235', 'salisbury-h_inbox_1138', 'hodge-j_sent_22', 'maggi-m_deleted_items_498', 'guzman-m_all_documents_722', 'shackleton-s_all_documents_10114', 'pimenov-v_sent_items_137', 'kean-s_attachments_1015', 'salisbury-h_read_128', 'haedicke-m_deleted_items_92', 'kaminski-v_deleted_items_113', 'sanders-r_sent_1155', 'lokay-m_discussion_threads_23', 'scott-s_sent_items_417', 'mann-k_all_documents_4203', 'kean-s_archiving_untitled_1362', 'shankman-j_sent_772', 'whalley-g_notes_inbox_1', 'watson-k_inbox_547', 'dean-c_discussion_threads_155', 'salisbury-h_inbox_429', 'benson-r_deleted_items_65', 'salisbury-h_inbox_929', 'hain-m__sent_mail_259', 'kitchen-l__americas_ooc_107', 'saibi-e_inbox_383', 'wolfe-j_inbox_187', 'shackleton-s_all_documents_10279', 'shackleton-s_sent_702', 'kean-s_notes_inbox_101', 'hain-m_discussion_threads_528', 'ward-k_inbox_265', 'dasovich-j_notes_inbox_11755', 'donoho-l_inbox_junk_file_335', 'bailey-s_deleted_items_206', 'watson-k_california_35', 'mims-thurston-p_all_documents_82', 'lay-k_notes_inbox_349', 'giron-d_deleted_items_60', 'presto-k_deleted_items_1339', 'fischer-m_discussion_threads_64', 'shapiro-r_discussion_threads_653', 'taylor-m_sent_483', 'kean-s_attachments_644', 'may-l_inbox_306', 'taylor-m_sent_252', 'carson-m_deleted_items_76', 'taylor-m_notes_inbox_1898', 'dasovich-j_all_documents_11454', 'davis-d_all_documents_408', 'perlingiere-d_all_documents_2861', 'kaminski-v_all_documents_9577', 'badeer-r_notes_inbox_18', 'taylor-m_all_documents_2497', 'beck-s_all_documents_500', 'hodge-j_inbox_57', 'kaminski-v_sent_4101', 'grigsby-m_all_documents_142', 'kitchen-l__americas_mrha_ooc_131', 'mclaughlin-e__sent_mail_208', 'campbell-l_discussion_threads_1612', 'dasovich-j_notes_inbox_2451', 'campbell-l_discussion_threads_967', 'beck-s_discussion_threads_3713', 'taylor-m_all_documents_3944', 'mann-k_discussion_threads_2801', 'kaminski-v_all_documents_9380', 'kean-s_all_documents_2208', 'shankman-j_discussion_threads_257', 'solberg-g_inbox_127', 'campbell-l_inbox_849', 'dasovich-j_sent_3064', 'zufferli-j_deleted_items_112', 'kaminski-v_discussion_threads_3623', 'campbell-l_notes_inbox_46', 'kean-s_archiving_untitled_6125', 'hain-m_discussion_threads_133', 'kean-s_project_california_22', 'parks-j_deleted_items_657', 'campbell-l_inbox_814', 'jones-t_notes_inbox_834', 'rogers-b_all_documents_345', 'platter-p_deleted_items_48', 'kean-s_all_documents_2221', 'guzman-m_notes_inbox_652', 'ring-r_eesidealsgsaregion1_23', 'mann-k__sent_mail_149', 'bass-e_sent_items_244', 'farmer-d_discussion_threads_1847', 'shapiro-r_deleted_items_821', 'dean-c_discussion_threads_207', 'kean-s_all_documents_4814', 'dasovich-j_sent_items_154', 'salisbury-h_inbox_1118', 'davis-d_inbox_global_counterpary_2', 'badeer-r_california_66', 'perlingiere-d_inbox_60', 'stokley-c_chris_stokley_volume_mang__100', 'lokay-m_deleted_items_214', 'kaminski-v_sent_1546', 'williams-w3_bill_williams_iii_535', 'ward-k_inbox_264', 'kean-s_calendar_untitled_8580', 'williams-w3_bill_williams_iii_473', 'kuykendall-t_all_documents_13', 'williams-w3_bill_williams_iii_534', 'guzman-m_discussion_threads_419', 'taylor-m_all_documents_255', 'rogers-b_all_documents_181', 'mcconnell-m_all_documents_329', 'dasovich-j_all_documents_10763', 'gay-r_sent_56', 'kuykendall-t_discussion_threads_46', 'kean-s_calendar_untitled_1152', 'kitchen-l__americas_netco_hr_40', 'salisbury-h_inbox_947', 'dasovich-j_all_documents_2894', 'guzman-m_all_documents_1211', 'campbell-l_inbox_160', 'lay-k_discussion_threads_446', 'badeer-r_all_documents_44', 'jones-t_notes_inbox_1901', 'kaminski-v_sent_items_321', 'platter-p_inbox_172', 'baughman-d_power_fundamentals_4', 'derrick-j_sent_items_147', 'thomas-p_deleted_items_173', 'grigsby-m_deleted_items_186', 'lavorato-j_calendar_144', 'love-p_central_31', 'lewis-a_deleted_items_1041', 'griffith-j_discussion_threads_218', 'dean-c_inbox_13', 'shackleton-s_all_documents_4746', 'kean-s_attachments_1008', 'shapiro-r_wholesale_markets_4', 'taylor-m_notes_inbox_447', 'kean-s_archiving_untitled_9006', 'hayslett-r_sent_items_253', 'germany-c__sent_mail_1441', 'dasovich-j_all_documents_13091', 'williams-w3_bill_williams_iii_144', 'fossum-d_discussion_threads_437', 'beck-s__sent_mail_909', 'kean-s_calendar_untitled_1893', 'jones-t_notes_inbox_1588', 'kean-s_archiving_untitled_4830', 'williams-w3_bill_williams_iii_18', 'kaminski-v_discussion_threads_771', 'dasovich-j_notes_inbox_3044', 'kean-s_archiving_untitled_4698', 'campbell-l_discussion_threads_846', 'haedicke-m_notes_inbox_229', 'mann-k__sent_mail_1094', 'gilbertsmith-d_inbox_12', 'cash-m_inbox_164', 'mann-k_discussion_threads_4546', 'motley-m_inbox_39', 'kean-s_discussion_threads_1978', 'mann-k_discussion_threads_3037', 'campbell-l_inbox_159', 'fossum-d_discussion_threads_823', 'jones-t_sent_120', 'fischer-m_all_documents_428', 'martin-t_deleted_items_33', 'shapiro-r_discussion_threads_289', 'benson-r_inbox_276', 'symes-k_discussion_threads_19', 'nemec-g_deleted_items_145', 'jones-t_inbox_66', 'grigsby-m_deleted_items_162', 'farmer-d_cornhusker_23', 'perlingiere-d_inbox_61', 'kean-s_heat_wave_233', 'dasovich-j_all_documents_3235', 'derrick-j_sent_items_438', 'buy-r_sent_items_119', 'beck-s_europe_41', 'guzman-m_all_documents_1537', 'campbell-l_inbox_865', 'steffes-j_sent_items_1178', 'dasovich-j_notes_inbox_2304', 'tycholiz-b__sent_mail_29', 'dean-c_deleted_items_131', 'mccarty-d_deleted_items_13', 'slinger-r_deleted_items_7', 'kaminski-v_sent_1955', 'campbell-l_inbox_844', 'kean-s_calendar_untitled_959', 'salisbury-h_inbox_996', 'griffith-j_move_9', 'salisbury-h_read_115', 'farmer-d_discussion_threads_1677', 'kaminski-v_discussion_threads_5515', 'beck-s_notes_inbox_104', 'nemec-g_sent_397', 'salisbury-h_inbox_1139', 'haedicke-m_all_documents_775', 'ybarbo-p_eco___cond__of_use_11', 'shapiro-r_all_documents_782', 'kean-s_heat_wave_234', 'fischer-m_notes_inbox_6', 'campbell-l_notes_inbox_207', 'kaminski-v_discussion_threads_886', 'mann-k_all_documents_3179', 'dasovich-j_notes_inbox_6048', 'germany-c_bankrupt_transport_el_paso_3', 'taylor-m_deleted_items_175', 'nemec-g_notes_inbox_1034', 'kean-s_all_documents_6330', 'kean-s_archiving_untitled_1323', 'jones-t_notes_inbox_4386', 'stokley-c_chris_stokley_iso_info_12', 'kaminski-v_c_mangmt_group_software_management_351', 'kaminski-v_ut_16', 'kean-s_discussion_threads_1826', 'hernandez-j_notes_inbox_214', 'slinger-r_deleted_items_92', 'salisbury-h_inbox_1159', 'sanders-r_all_documents_5185', 'jones-t_notes_inbox_1308', 'kean-s_discussion_threads_839', 'williams-w3_bill_williams_iii_902', 'swerzbin-m_inbox_24', 'dasovich-j_notes_inbox_1268', 'jones-t_all_documents_3160', 'white-s_sent_items_199', 'arnold-j_all_documents_90', 'kean-s_archiving_untitled_5041', 'shackleton-s_all_documents_10543', 'salisbury-h_read_125', 'williams-w3_bill_williams_iii_368', 'jones-t_all_documents_3295', 'ward-k_deleted_items_212', 'skilling-j_all_documents_1393', 'dasovich-j_notes_inbox_5722', 'smith-m_inbox_7', 'watson-k_e_mail_bin_3', 'farmer-d_discussion_threads_2786', 'haedicke-m_deleted_items_78', 'fossum-d_all_documents_1055', 'rogers-b_genco_jv_ipo_36', 'kean-s_sent_437', 'dasovich-j_all_documents_10297', 'kean-s_archiving_untitled_4934', 'ring-r_eesidealsgsaregion1_24', 'jones-t_notes_inbox_2947', 'dasovich-j_all_documents_8158', 'dasovich-j_all_documents_1849', 'beck-s_all_documents_2168', 'jones-t_sent_5607', 'heard-m_deleted_items_193', 'salisbury-h_inbox_1033', 'guzman-m_notes_inbox_1444', 'griffith-j_all_documents_204', 'dasovich-j_all_documents_12576', 'salisbury-h_inbox_922', 'kitchen-l__americas_mrha_ooc_134', 'salisbury-h_read_62', 'kean-s_archiving_untitled_8712', 'kaminski-v__sent_mail_2147', 'dasovich-j_notes_inbox_696', 'farmer-d_all_documents_476', 'dasovich-j_california_crisis__press_40', 'allen-p_notes_inbox_11', 'harris-s_deleted_items_482', 'dean-c_deleted_items_198', 'hain-m_all_documents_1209', 'mann-k__sent_mail_3106', 'guzman-m_discussion_threads_406', 'sanders-r_notes_inbox_179', 'davis-d_discussion_threads_158', 'kaminski-v_all_documents_10139', 'geaccone-t_inbox_177', 'mann-k_all_documents_4012', 'pimenov-v_inbox_294', 'derrick-j_sent_items_550', 'whalley-l_all_documents_362', 'dasovich-j_notes_inbox_12127', 'martin-t_sent_items_162', 'dasovich-j_all_documents_2919', 'lay-k_inbox_794', 'davis-d_church_23', 'buy-r_sent_items_84', 'shackleton-s_notes_inbox_2833', 'whitt-m_inbox_189', 'dasovich-j_notes_inbox_11517', 'mann-k_discussion_threads_2932', 'haedicke-m_sent_236', 'presto-k_deleted_items_186', 'dasovich-j_all_documents_4450', 'beck-s_discussion_threads_1664', 'williams-w3_sent_items_87', 'dasovich-j_all_documents_9218', 'kean-s_calendar_untitled_6842', 'dasovich-j_all_documents_8346', 'kitchen-l__americas_ooc_110', 'bass-e_deleted_items_63', 'maggi-m_deleted_items_497', 'haedicke-m_all_documents_2143', 'dean-c_inbox_637', 'steffes-j_deleted_items_404', 'dasovich-j_all_documents_832', 'kaminski-v__sent_mail_993', 'campbell-l_discussion_threads_1076', 'rogers-b_deleted_items_242', 'arnold-j_all_documents_394', 'farmer-d_all_documents_1297', 'kean-s_sent_1281', 'badeer-r_notes_inbox_44', 'fossum-d_notes_inbox_10', 'gay-r_sent_7', 'shackleton-s_all_documents_5190', 'kean-s_calendar_untitled_7897', 'beck-s_inclement_weather_list_1', 'keavey-p_sent_41', 'rogers-b_discussion_threads_1614', 'kaminski-v_sent_items_983', 'jones-t_inbox_67', 'lokay-m_personal_108', 'kean-s_discussion_threads_3240', 'cash-m_deleted_items_408', 'badeer-r_discussion_threads_14', 'jones-t_inbox_411', 'mims-thurston-p_deleted_items_148', 'gang-l_deleted_items_340', 'taylor-m_all_documents_1154', 'kean-s_heat_wave_2', 'whalley-l_discussion_threads_340', 'kaminski-v_discussion_threads_1306', 'kaminski-v_sent_1673', 'dasovich-j_all_documents_2834', 'dasovich-j_all_documents_28407', 'kaminski-v_all_documents_2109', 'guzman-m_discussion_threads_80', 'campbell-l_inbox_864', 'kaminski-v__sent_mail_1674', 'shackleton-s_sent_5839', 'arnold-j_all_documents_142', 'taylor-m_notes_inbox_1246', 'symes-k_all_documents_31', 'jones-t_all_documents_5703', 'jones-t_notes_inbox_1334', 'hain-m_discussion_threads_346', 'williams-w3_bill_williams_iii_696', 'jones-t_sent_5390', 'guzman-m_all_documents_1550', 'mann-k__sent_mail_1347', 'buy-r_sent_items_83', 'scott-s_inbox_111', 'shackleton-s_notes_inbox_1146', 'kean-s_archiving_untitled_1079', 'lay-k_all_documents_560', 'fischer-m_notes_inbox_22', 'rogers-b_inbox_12', 'mcconnell-m__sent_mail_545', 'dasovich-j_all_documents_11014', 'beck-s_sent_460', 'salisbury-h_inbox_898', 'ward-k_discussion_threads_48', 'shackleton-s_all_documents_5200', 'kaminski-v__sent_mail_4059', 'kean-s_archiving_untitled_6380', 'shackleton-s_sent_2043', 'jones-t_notes_inbox_1324', 'germany-c_discussion_threads_1134', 'kean-s_notes_inbox_421', 'shackleton-s_sent_6154', 'dasovich-j_all_documents_10429', 'mann-k_sent_3313', 'taylor-m_all_documents_640', 'grigsby-m_discussion_threads_196', 'germany-c_bankrupt_transport_el_paso_2', 'panus-s_deleted_items_72', 'jones-t_all_documents_5101', 'jones-t_all_documents_9308', 'fischer-m_all_documents_422', 'kean-s_aadepartment_119', 'dasovich-j_deleted_items_360', 'mann-k_discussion_threads_4073', 'kean-s_calendar_untitled_7238', 'kaminski-v_discussion_threads_5547', 'lokay-m_all_documents_24', 'causholli-m_inbox_37', 'stokley-c_chris_stokley_iso_mrkt_info_108', 'rogers-b_discussion_threads_1768', 'salisbury-h_read_77', 'campbell-l_inbox_448', 'geaccone-t__sent_mail_111', 'kaminski-v_c_mangmt_group_management_712', 'skilling-j_all_documents_173', 'kaminski-v_all_documents_824', 'kaminski-v_sent_992', 'shackleton-s_inbox_287', 'reitmeyer-j_deleted_items_95', 'davis-d_church_25', 'shackleton-s_inbox_97', 'salisbury-h_inbox_792', 'quigley-d_deleted_items_88', 'whalley-l_notes_inbox_1', 'kaminski-v_sent_4374', 'tholt-j_inbox_18', 'forney-j_inbox_86', 'lay-k_inbox_1789', 'taylor-m_all_documents_3897', 'jones-t_sent_5604', 'hain-m_all_documents_1158', 'parks-j_sent_items_170', 'taylor-m_all_documents_1658', 'arnold-j__sent_mail_209', 'beck-s_analyst_assoc_program_10', 'shackleton-s_all_documents_9190', 'rogers-b_discussion_threads_1862', 'dasovich-j_sent_2950', 'hyvl-d_all_documents_630', 'kean-s_attachments_674', 'kaminski-v_all_documents_9425', 'lewis-a_deleted_items_232', 'grigsby-m_deleted_items_187', 'mann-k_discussion_threads_3764', 'hendrickson-s_all_documents_6', 'kaminski-v_discussion_threads_5450', 'kean-s_all_documents_4935', 'shackleton-s_all_documents_3398', 'mann-k_all_documents_6096', 'hain-m_all_documents_944', 'kean-s_sent_168', 'shackleton-s_sent_5200', 'mann-k_all_documents_5688', 'kaminski-v_sent_items_2432', 'lokay-m_sent_71', 'shackleton-s_sent_6041', 'scott-s_deleted_items_158', 'kean-s_attachments_848', 'jones-t_sent_1309', 'kean-s_california_504', 'jones-t_all_documents_3621', 'shapiro-r_all_documents_254', 'sager-e_all_documents_244', 'baughman-d_deleted_items_382', 'may-l_inbox_61', 'mann-k_sent_3055', 'symes-k__sent_mail_1202', 'guzman-m_discussion_threads_1215', 'symes-k__sent_mail_695', 'kitchen-l_sent_items_788', 'scott-s__sent_mail_565', 'jones-t_notes_inbox_1024', 'dasovich-j_all_documents_712', 'watson-k_deleted_items_113', 'kaminski-v_sent_4058', 'kean-s_calendar_untitled_8322', 'williams-w3_human_resources_18', 'parks-j_deleted_items_10', 'mann-k_notes_inbox_334', 'perlingiere-d_deleted_items_546', 'kean-s_attachments_1268', 'kean-s_california_533']\n",
      "804 files have been processed and copied to sample_maildir.\n"
     ]
    }
   ],
   "source": [
    "\n",
    "sample_files(\"urgent_files\", sample_dir, 600, \"sample_2\")"
   ]
  }
 ],
 "metadata": {
  "kernelspec": {
   "display_name": "Python 3",
   "language": "python",
   "name": "python3"
  },
  "language_info": {
   "codemirror_mode": {
    "name": "ipython",
    "version": 3
   },
   "file_extension": ".py",
   "mimetype": "text/x-python",
   "name": "python",
   "nbconvert_exporter": "python",
   "pygments_lexer": "ipython3",
   "version": "3.11.4"
  }
 },
 "nbformat": 4,
 "nbformat_minor": 5
}
